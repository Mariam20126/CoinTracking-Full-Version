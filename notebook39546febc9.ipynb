{
 "cells": [
  {
   "cell_type": "code",
   "execution_count": 1,
   "id": "bd0946fe",
   "metadata": {
    "_cell_guid": "b1076dfc-b9ad-4769-8c92-a6c4dae69d19",
    "_uuid": "8f2839f25d086af736a60e9eeb907d3b93b6e0e5",
    "execution": {
     "iopub.execute_input": "2023-11-30T12:48:15.226197Z",
     "iopub.status.busy": "2023-11-30T12:48:15.225804Z",
     "iopub.status.idle": "2023-11-30T12:48:15.609309Z",
     "shell.execute_reply": "2023-11-30T12:48:15.608082Z"
    },
    "papermill": {
     "duration": 0.390791,
     "end_time": "2023-11-30T12:48:15.612059",
     "exception": false,
     "start_time": "2023-11-30T12:48:15.221268",
     "status": "completed"
    },
    "tags": []
   },
   "outputs": [],
   "source": [
    "# This Python 3 environment comes with many helpful analytics libraries installed\n",
    "# It is defined by the kaggle/python Docker image: https://github.com/kaggle/docker-python\n",
    "# For example, here's several helpful packages to load\n",
    "\n",
    "import numpy as np # linear algebra\n",
    "import pandas as pd # data processing, CSV file I/O (e.g. pd.read_csv)\n",
    "\n",
    "# Input data files are available in the read-only \"../input/\" directory\n",
    "# For example, running this (by clicking run or pressing Shift+Enter) will list all files under the input directory\n",
    "\n",
    "import os\n",
    "for dirname, _, filenames in os.walk('/kaggle/input'):\n",
    "    for filename in filenames:\n",
    "        print(os.path.join(dirname, filename))\n",
    "\n",
    "# You can write up to 20GB to the current directory (/kaggle/working/) that gets preserved as output when you create a version using \"Save & Run All\" \n",
    "# You can also write temporary files to /kaggle/temp/, but they won't be saved outside of the current session"
   ]
  },
  {
   "cell_type": "code",
   "execution_count": null,
   "id": "710de1d1",
   "metadata": {
    "papermill": {
     "duration": 0.004364,
     "end_time": "2023-11-30T12:48:15.619831",
     "exception": false,
     "start_time": "2023-11-30T12:48:15.615467",
     "status": "completed"
    },
    "tags": []
   },
   "outputs": [],
   "source": []
  },
  {
   "cell_type": "markdown",
   "id": "c8a59c3a",
   "metadata": {
    "papermill": {
     "duration": 0.001825,
     "end_time": "2023-11-30T12:48:15.623991",
     "exception": false,
     "start_time": "2023-11-30T12:48:15.622166",
     "status": "completed"
    },
    "tags": []
   },
   "source": [
    "this is mariam edwar"
   ]
  },
  {
   "cell_type": "code",
   "execution_count": 2,
   "id": "91f6530d",
   "metadata": {
    "execution": {
     "iopub.execute_input": "2023-11-30T12:48:15.630053Z",
     "iopub.status.busy": "2023-11-30T12:48:15.629519Z",
     "iopub.status.idle": "2023-11-30T12:48:15.634672Z",
     "shell.execute_reply": "2023-11-30T12:48:15.633305Z"
    },
    "papermill": {
     "duration": 0.010779,
     "end_time": "2023-11-30T12:48:15.636902",
     "exception": false,
     "start_time": "2023-11-30T12:48:15.626123",
     "status": "completed"
    },
    "tags": []
   },
   "outputs": [],
   "source": [
    "import pandas as pd "
   ]
  },
  {
   "cell_type": "markdown",
   "id": "80bae99a",
   "metadata": {
    "papermill": {
     "duration": 0.002043,
     "end_time": "2023-11-30T12:48:15.641497",
     "exception": false,
     "start_time": "2023-11-30T12:48:15.639454",
     "status": "completed"
    },
    "tags": []
   },
   "source": [
    "mmmmmm"
   ]
  },
  {
   "cell_type": "code",
   "execution_count": 3,
   "id": "ab5234c3",
   "metadata": {
    "execution": {
     "iopub.execute_input": "2023-11-30T12:48:15.647605Z",
     "iopub.status.busy": "2023-11-30T12:48:15.647178Z",
     "iopub.status.idle": "2023-11-30T12:48:15.652173Z",
     "shell.execute_reply": "2023-11-30T12:48:15.651010Z"
    },
    "papermill": {
     "duration": 0.010779,
     "end_time": "2023-11-30T12:48:15.654549",
     "exception": false,
     "start_time": "2023-11-30T12:48:15.643770",
     "status": "completed"
    },
    "tags": []
   },
   "outputs": [],
   "source": [
    "import pandas as pd "
   ]
  }
 ],
 "metadata": {
  "kaggle": {
   "accelerator": "none",
   "dataSources": [],
   "dockerImageVersionId": 30587,
   "isGpuEnabled": false,
   "isInternetEnabled": false,
   "language": "python",
   "sourceType": "notebook"
  },
  "kernelspec": {
   "display_name": "Python 3",
   "language": "python",
   "name": "python3"
  },
  "language_info": {
   "codemirror_mode": {
    "name": "ipython",
    "version": 3
   },
   "file_extension": ".py",
   "mimetype": "text/x-python",
   "name": "python",
   "nbconvert_exporter": "python",
   "pygments_lexer": "ipython3",
   "version": "3.10.12"
  },
  "papermill": {
   "default_parameters": {},
   "duration": 6.357221,
   "end_time": "2023-11-30T12:48:18.517891",
   "environment_variables": {},
   "exception": null,
   "input_path": "__notebook__.ipynb",
   "output_path": "__notebook__.ipynb",
   "parameters": {},
   "start_time": "2023-11-30T12:48:12.160670",
   "version": "2.4.0"
  }
 },
 "nbformat": 4,
 "nbformat_minor": 5
}
